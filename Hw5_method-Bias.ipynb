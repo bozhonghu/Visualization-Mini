{
 "cells": [
  {
   "cell_type": "code",
   "execution_count": 1,
   "metadata": {},
   "outputs": [],
   "source": [
    "import numpy as np\n",
    "import matplotlib.pyplot as plt\n",
    "import numpy.linalg\n",
    "%matplotlib inline"
   ]
  },
  {
   "cell_type": "code",
   "execution_count": 2,
   "metadata": {},
   "outputs": [],
   "source": [
    "def grad_U(Ui, Yij, Vj, a, b, reg, eta):\n",
    "    \"\"\"\n",
    "    Takes as input Ui (the ith row of U), a training point Yij, the column\n",
    "    vector Vj (jth column of V^T), reg (the regularization parameter lambda),\n",
    "    and eta (the learning rate).\n",
    "\n",
    "    Returns the gradient of the regularized loss function with\n",
    "    respect to Ui multiplied by eta.\n",
    "    \"\"\"\n",
    "    return eta * (reg * Ui - Vj * (Yij - np.dot(Ui, Vj) - a - b))"
   ]
  },
  {
   "cell_type": "code",
   "execution_count": 3,
   "metadata": {},
   "outputs": [],
   "source": [
    "def grad_V(Vj, Yij, Ui, a, b, reg, eta):    \n",
    "    \"\"\"\n",
    "    Takes as input the column vector Vj (jth column of V^T), a training point Yij,\n",
    "    Ui (the ith row of U), reg (the regularization parameter lambda),\n",
    "    and eta (the learning rate).\n",
    "\n",
    "    Returns the gradient of the regularized loss function with\n",
    "    respect to Vj multiplied by eta.\n",
    "    \"\"\"\n",
    "    return eta * (reg * Vj - Ui * (Yij - np.dot(Ui, Vj) - a - b))"
   ]
  },
  {
   "cell_type": "code",
   "execution_count": 4,
   "metadata": {},
   "outputs": [],
   "source": [
    "def grad_a(Vj, Yij, Ui, a, b, reg, eta): \n",
    "    return eta * (reg * a - (Yij - np.dot(Ui, Vj) - a - b))\n",
    "\n",
    "def grad_b(Vj, Yij, Ui, a, b, reg, eta): \n",
    "    return eta * (reg * b - (Yij - np.dot(Ui, Vj) - a - b))"
   ]
  },
  {
   "cell_type": "code",
   "execution_count": 5,
   "metadata": {},
   "outputs": [],
   "source": [
    "def get_err(U, V, Y, a, b, reg=0.0):\n",
    "    \"\"\"\n",
    "    Takes as input a matrix Y of triples (i, j, Y_ij) where i is the index of a user,\n",
    "    j is the index of a movie, and Y_ij is user i's rating of movie j and\n",
    "    user/movie matrices U and V.\n",
    "\n",
    "    Returns the mean regularized squared-error of predictions made by\n",
    "    estimating Y_{ij} as the dot product of the ith row of U and the jth column of V^T.\n",
    "    \"\"\"\n",
    "    err = 0\n",
    "    for y in Y:\n",
    "        err += (y[2] - (np.dot(U[y[0] - 1], V[y[1] - 1]) + a[y[0] - 1] + b[y[1] - 1]))**2\n",
    "    err /= 2.0\n",
    "    err += (reg / 2) * (np.linalg.norm(U)**2 + np.linalg.norm(V)**2)\n",
    "    err /= len(Y)\n",
    "    \n",
    "    return err"
   ]
  },
  {
   "cell_type": "code",
   "execution_count": 6,
   "metadata": {},
   "outputs": [],
   "source": [
    "def train_model(M, N, K, eta, reg, Y, eps=0.0001, max_epochs=300):\n",
    "    \"\"\"\n",
    "    Given a training data matrix Y containing rows (i, j, Y_ij)\n",
    "    where Y_ij is user i's rating on movie j, learns an\n",
    "    M x K matrix U and N x K matrix V such that rating Y_ij is approximated\n",
    "    by (UV^T)_ij.\n",
    "\n",
    "    Uses a learning rate of <eta> and regularization of <reg>. Stops after\n",
    "    <max_epochs> epochs, or once the magnitude of the decrease in regularized\n",
    "    MSE between epochs is smaller than a fraction <eps> of the decrease in\n",
    "    MSE after the first epoch.\n",
    "\n",
    "    Returns a tuple (U, V, err) consisting of U, V, and the unregularized MSE\n",
    "    of the model.\n",
    "    \"\"\"\n",
    "    # epoch counter and initial matrices\n",
    "    k = 0\n",
    "    U = np.random.random_sample((M, K)) - 0.5\n",
    "    V = np.random.random_sample((N, K)) - 0.5\n",
    "    a = np.random.random_sample(M) - 0.5\n",
    "    b = np.random.random_sample(N) - 0.5\n",
    "    err = 0\n",
    "    erri = 0\n",
    "    \n",
    "    # Start the epoch runs\n",
    "    while(k < max_epochs):\n",
    "        \n",
    "        # random permutation of the indices\n",
    "        inds = np.arange(len(Y))\n",
    "        np.random.shuffle(inds)\n",
    "        \n",
    "        # run on epoch\n",
    "        for y in inds:\n",
    "            i,j,v = Y[y][0] - 1, Y[y][1] - 1, Y[y][2]\n",
    "            temp_u, temp_v, temp_a, temp_b = np.copy(U[i]), np.copy(V[j]), a[i], b[j]\n",
    "            U[i] -= grad_U(temp_u, v, temp_v, temp_a, temp_b, reg, eta)\n",
    "            V[j] -= grad_V(temp_v, v, temp_u, temp_a, temp_b, reg, eta)\n",
    "            a[i] -= grad_a(temp_v, v, temp_u, temp_a, temp_b, reg, eta)\n",
    "            b[j] -= grad_b(temp_v, v, temp_u, temp_a, temp_b, reg, eta)\n",
    "        \n",
    "        # Compute new error\n",
    "        new_error = get_err(U, V, Y, a, b)\n",
    "        # Break if error less than eps.\n",
    "        if (k==0):\n",
    "            err = new_error\n",
    "            erri = new_error\n",
    "        elif((err - new_error) / erri < eps):\n",
    "            break\n",
    "        else:\n",
    "            err = new_error\n",
    "            \n",
    "        # increment counter\n",
    "        k += 1\n",
    "    \n",
    "    # return MSE and UV\n",
    "    return (U, V, a, b, err)"
   ]
  },
  {
   "cell_type": "code",
   "execution_count": 7,
   "metadata": {},
   "outputs": [
    {
     "name": "stdout",
     "output_type": "stream",
     "text": [
      "('Factorizing with ', 943, ' users, ', 1682, ' movies.')\n"
     ]
    }
   ],
   "source": [
    "# Load Data\n",
    "Y_train = np.loadtxt('data/train.txt').astype(int)\n",
    "Y_test = np.loadtxt('data/test.txt').astype(int)\n",
    "M = max(max(Y_train[:,0]), max(Y_test[:,0])).astype(int) # users\n",
    "N = max(max(Y_train[:,1]), max(Y_test[:,1])).astype(int) # movies\n",
    "print(\"Factorizing with \", M, \" users, \", N, \" movies.\")"
   ]
  },
  {
   "cell_type": "code",
   "execution_count": 8,
   "metadata": {},
   "outputs": [],
   "source": [
    "reg = 0.1\n",
    "eta = 0.03 # learning rate\n",
    "K = 20\n",
    "\n",
    "U,V, a, b, E_in = train_model(M, N, K, eta, reg, Y_train)\n",
    "E_out = get_err(U, V, Y_test, a, b)"
   ]
  },
  {
   "cell_type": "code",
   "execution_count": 9,
   "metadata": {},
   "outputs": [
    {
     "name": "stdout",
     "output_type": "stream",
     "text": [
      "0.2880494146444544 0.43339163599152514\n"
     ]
    }
   ],
   "source": [
    "print E_in, E_out"
   ]
  },
  {
   "cell_type": "markdown",
   "metadata": {},
   "source": [
    "Do SVD"
   ]
  },
  {
   "cell_type": "code",
   "execution_count": 10,
   "metadata": {},
   "outputs": [],
   "source": [
    "users_2d, _, _ = np.linalg.svd(U, full_matrices=True)\n",
    "movies_2d, _, _ = np.linalg.svd(V, full_matrices=True)"
   ]
  },
  {
   "cell_type": "markdown",
   "metadata": {},
   "source": [
    "Plot users and movies"
   ]
  },
  {
   "cell_type": "code",
   "execution_count": 11,
   "metadata": {},
   "outputs": [
    {
     "data": {
      "text/plain": [
       "<matplotlib.collections.PathCollection at 0x7fc1080a3fd0>"
      ]
     },
     "execution_count": 11,
     "metadata": {},
     "output_type": "execute_result"
    },
    {
     "data": {
      "image/png": "[encoded data removed]",
      "text/plain": [
       "<matplotlib.figure.Figure at 0x7fc108bbf690>"
      ]
     },
     "metadata": {},
     "output_type": "display_data"
    }
   ],
   "source": [
    "plt.scatter(users_2d[0],\n",
    "            users_2d[1])"
   ]
  },
  {
   "cell_type": "code",
   "execution_count": 12,
   "metadata": {},
   "outputs": [
    {
     "data": {
      "text/plain": [
       "<matplotlib.collections.PathCollection at 0x7fc108722950>"
      ]
     },
     "execution_count": 12,
     "metadata": {},
     "output_type": "execute_result"
    },
    {
     "data": {
      "image/png": "[encoded data removed]",
      "text/plain": [
       "<matplotlib.figure.Figure at 0x7fc12277e590>"
      ]
     },
     "metadata": {},
     "output_type": "display_data"
    }
   ],
   "source": [
    "plt.scatter(movies_2d[0],\n",
    "            movies_2d[1])"
   ]
  },
  {
   "cell_type": "code",
   "execution_count": null,
   "metadata": {},
   "outputs": [],
   "source": []
  }
 ],
 "metadata": {
  "kernelspec": {
   "display_name": "Python 2",
   "language": "python",
   "name": "python2"
  },
  "language_info": {
   "codemirror_mode": {
    "name": "ipython",
    "version": 2
   },
   "file_extension": ".py",
   "mimetype": "text/x-python",
   "name": "python",
   "nbconvert_exporter": "python",
   "pygments_lexer": "ipython2",
   "version": "2.7.6"
  }
 },
 "nbformat": 4,
 "nbformat_minor": 2
}
