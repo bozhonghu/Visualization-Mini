{
 "cells": [
  {
   "cell_type": "code",
   "execution_count": 31,
   "metadata": {},
   "outputs": [],
   "source": [
    "from __future__ import division\n",
    "import numpy as np\n",
    "import matplotlib.pyplot as plt\n",
    "import heapq\n",
    "%matplotlib inline"
   ]
  },
  {
   "cell_type": "code",
   "execution_count": 2,
   "metadata": {},
   "outputs": [],
   "source": [
    "Y_data = np.loadtxt('data/data.txt').astype(int)\n",
    "ratings = Y_data[:, 2]\n",
    "movies = Y_data[:, 1]\n",
    "users = Y_data[:, 0]"
   ]
  },
  {
   "cell_type": "code",
   "execution_count": 28,
   "metadata": {},
   "outputs": [
    {
     "data": {
      "text/plain": [
       "Text(0.5,1,u'Histogram of All Movie Ratings')"
      ]
     },
     "execution_count": 28,
     "metadata": {},
     "output_type": "execute_result"
    },
    {
     "data": {
      "image/png": "[encoded data removed]",
      "text/plain": [
       "<matplotlib.figure.Figure at 0x1121ab150>"
      ]
     },
     "metadata": {},
     "output_type": "display_data"
    }
   ],
   "source": [
    "plt.figure(0)\n",
    "plt.hist(ratings)\n",
    "plt.xlabel('Rating')\n",
    "plt.ylabel('Frequency')\n",
    "plt.title('Histogram of All Movie Ratings')"
   ]
  },
  {
   "cell_type": "code",
   "execution_count": 4,
   "metadata": {},
   "outputs": [
    {
     "name": "stdout",
     "output_type": "stream",
     "text": [
      "[ 50 258 100 181 294 286 288   1 300 121]\n"
     ]
    }
   ],
   "source": [
    "movie_counts = np.bincount(movies)\n",
    "top_10_counts = heapq.nlargest(10, movie_counts)\n",
    "top_10_movies = []\n",
    "\n",
    "for i in range(len(top_10_counts)):\n",
    "    movie_id = int(np.where(movie_counts == top_10_counts[i])[0])\n",
    "    top_10_movies.append(movie_id)\n",
    "\n",
    "top_10_movies = np.asarray(top_10_movies)\n",
    "print top_10_movies"
   ]
  },
  {
   "cell_type": "code",
   "execution_count": 16,
   "metadata": {},
   "outputs": [],
   "source": [
    "def get_ratings(movies, ratings, movie_id):\n",
    "    r = []\n",
    "    for i in range(len(movies)):\n",
    "        if (movies[i] == movie_id):\n",
    "            r.append(ratings[i])\n",
    "    return r"
   ]
  },
  {
   "cell_type": "code",
   "execution_count": 18,
   "metadata": {},
   "outputs": [],
   "source": [
    "movie_dic = {}\n",
    "for i in range(1682):\n",
    "    movie_dic[i+1] = get_ratings(movies, ratings, i+1)"
   ]
  },
  {
   "cell_type": "code",
   "execution_count": 20,
   "metadata": {},
   "outputs": [
    {
     "name": "stdout",
     "output_type": "stream",
     "text": [
      "[5 4 5 ..., 4 4 5]\n"
     ]
    }
   ],
   "source": [
    "top_10_ratings = []\n",
    "for i in range(len(top_10_movies)):\n",
    "    top_10_ratings += movie_dic[top_10_movies[i]]\n",
    "top_10_ratings = np.asarray(top_10_ratings)\n",
    "print top_10_ratings"
   ]
  },
  {
   "cell_type": "code",
   "execution_count": 27,
   "metadata": {},
   "outputs": [
    {
     "data": {
      "text/plain": [
       "Text(0.5,1,u'Histogram of 10 Most Popular Movie Ratings')"
      ]
     },
     "execution_count": 27,
     "metadata": {},
     "output_type": "execute_result"
    },
    {
     "data": {
      "image/png": "[encoded data removed]",
      "text/plain": [
       "<matplotlib.figure.Figure at 0x1121563d0>"
      ]
     },
     "metadata": {},
     "output_type": "display_data"
    }
   ],
   "source": [
    "plt.figure(1)\n",
    "plt.hist(top_10_ratings)\n",
    "plt.xlabel('Rating')\n",
    "plt.ylabel('Frequency')\n",
    "plt.title('Histogram of 10 Most Popular Movie Ratings')"
   ]
  },
  {
   "cell_type": "code",
   "execution_count": 22,
   "metadata": {},
   "outputs": [],
   "source": [
    "average_ratings = np.zeros(1682)\n",
    "qualified_number = 20\n",
    "for i in range(len(average_ratings)):\n",
    "    movie_i_ratings = movie_dic[i + 1]\n",
    "    if (len(movie_i_ratings) >= qualified_number):\n",
    "        average_ratings[i] = np.average(movie_i_ratings)"
   ]
  },
  {
   "cell_type": "code",
   "execution_count": 23,
   "metadata": {},
   "outputs": [
    {
     "name": "stdout",
     "output_type": "stream",
     "text": [
      "[408 318 169 483 114  64 603  12  50 178]\n"
     ]
    }
   ],
   "source": [
    "best_10_ratings = heapq.nlargest(10, average_ratings)\n",
    "best_10_movies = []\n",
    "for i in range(len(best_10_ratings)):\n",
    "    movie_id = int(np.where(average_ratings == best_10_ratings[i])[0]) + 1\n",
    "    best_10_movies.append(movie_id)\n",
    "best_10_movies = np.asarray(best_10_movies)\n",
    "print best_10_movies"
   ]
  },
  {
   "cell_type": "code",
   "execution_count": 24,
   "metadata": {},
   "outputs": [
    {
     "name": "stdout",
     "output_type": "stream",
     "text": [
      "[5 5 1 ..., 4 5 5]\n"
     ]
    }
   ],
   "source": [
    "best_10_all_ratings = []\n",
    "for i in range(len(best_10_movies)):\n",
    "    best_10_all_ratings += movie_dic[best_10_movies[i]]\n",
    "best_10_all_ratings = np.asarray(best_10_all_ratings)\n",
    "print best_10_all_ratings"
   ]
  },
  {
   "cell_type": "code",
   "execution_count": 29,
   "metadata": {},
   "outputs": [
    {
     "data": {
      "text/plain": [
       "Text(0.5,1,u'Histogram of 10 Highest Rated Movie Ratings (minimum 20 ratings to be considered)')"
      ]
     },
     "execution_count": 29,
     "metadata": {},
     "output_type": "execute_result"
    },
    {
     "data": {
      "image/png": "[encoded data removed]",
      "text/plain": [
       "<matplotlib.figure.Figure at 0x1121cc7d0>"
      ]
     },
     "metadata": {},
     "output_type": "display_data"
    }
   ],
   "source": [
    "plt.figure(2)\n",
    "plt.hist(best_10_all_ratings)\n",
    "plt.xlabel('Rating')\n",
    "plt.ylabel('Frequency')\n",
    "plt.title('Histogram of 10 Highest Rated Movie Ratings (minimum ' + str(qualified_number) + ' ratings to be considered)')"
   ]
  },
  {
   "cell_type": "code",
   "execution_count": null,
   "metadata": {},
   "outputs": [],
   "source": []
  }
 ],
 "metadata": {
  "kernelspec": {
   "display_name": "py27",
   "language": "python",
   "name": "python2"
  },
  "language_info": {
   "codemirror_mode": {
    "name": "ipython",
    "version": 2
   },
   "file_extension": ".py",
   "mimetype": "text/x-python",
   "name": "python",
   "nbconvert_exporter": "python",
   "pygments_lexer": "ipython2",
   "version": "2.7.14"
  }
 },
 "nbformat": 4,
 "nbformat_minor": 2
}
