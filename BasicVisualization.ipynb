{
 "cells": [
  {
   "cell_type": "code",
   "execution_count": 1,
   "metadata": {},
   "outputs": [],
   "source": [
    "from __future__ import division\n",
    "import numpy as np\n",
    "import matplotlib.pyplot as plt\n",
    "import heapq\n",
    "%matplotlib inline"
   ]
  },
  {
   "cell_type": "markdown",
   "metadata": {},
   "source": [
    "Load the data: it is useful in our code to load the ratings, movies, and users as separate arrays"
   ]
  },
  {
   "cell_type": "code",
   "execution_count": 2,
   "metadata": {},
   "outputs": [],
   "source": [
    "Y_data = np.loadtxt('data/data.txt').astype(int)\n",
    "ratings = Y_data[:, 2]\n",
    "movies = Y_data[:, 1]\n",
    "users = Y_data[:, 0]"
   ]
  },
  {
   "cell_type": "markdown",
   "metadata": {},
   "source": [
    "First, we make a histogram of all the movie ratings"
   ]
  },
  {
   "cell_type": "code",
   "execution_count": 3,
   "metadata": {},
   "outputs": [
    {
     "data": {
      "text/plain": [
       "Text(0.5,1,u'Histogram of All Movie Ratings')"
      ]
     },
     "execution_count": 3,
     "metadata": {},
     "output_type": "execute_result"
    },
    {
     "data": {
      "image/png": "[encoded data removed]",
      "text/plain": [
       "<matplotlib.figure.Figure at 0x7f35d81e96d0>"
      ]
     },
     "metadata": {},
     "output_type": "display_data"
    }
   ],
   "source": [
    "plt.figure(0)\n",
    "plt.hist(ratings)\n",
    "plt.xlabel('Rating')\n",
    "plt.ylabel('Frequency')\n",
    "plt.title('Histogram of All Movie Ratings')"
   ]
  },
  {
   "cell_type": "markdown",
   "metadata": {},
   "source": [
    "Now, we find the movies with the most ratings by counting the number of times the movie ID is found and finding the \n",
    "10 maximum counts"
   ]
  },
  {
   "cell_type": "code",
   "execution_count": 4,
   "metadata": {},
   "outputs": [
    {
     "name": "stdout",
     "output_type": "stream",
     "text": [
      "[ 50 258 100 181 294 286 288   1 300 121]\n"
     ]
    }
   ],
   "source": [
    "movie_counts = np.bincount(movies)\n",
    "top_10_counts = heapq.nlargest(10, movie_counts) \n",
    "top_10_movies = []\n",
    "\n",
    "for i in range(len(top_10_counts)):\n",
    "    movie_id = int(np.where(movie_counts == top_10_counts[i])[0])\n",
    "    top_10_movies.append(movie_id)\n",
    "\n",
    "top_10_movies = np.asarray(top_10_movies)\n",
    "print top_10_movies"
   ]
  },
  {
   "cell_type": "markdown",
   "metadata": {},
   "source": [
    "We also define a helper function to return the ratings for a given movie"
   ]
  },
  {
   "cell_type": "code",
   "execution_count": 5,
   "metadata": {},
   "outputs": [],
   "source": [
    "def get_ratings(movies, ratings, movie_id):\n",
    "    r = []\n",
    "    for i in range(len(movies)):\n",
    "        if (movies[i] == movie_id):\n",
    "            r.append(ratings[i])\n",
    "    return r"
   ]
  },
  {
   "cell_type": "markdown",
   "metadata": {},
   "source": [
    "We create a dictionary for all the ratings for each of the movies"
   ]
  },
  {
   "cell_type": "code",
   "execution_count": 6,
   "metadata": {},
   "outputs": [],
   "source": [
    "movie_dic = {}\n",
    "for i in range(1682):\n",
    "    movie_dic[i+1] = get_ratings(movies, ratings, i+1)"
   ]
  },
  {
   "cell_type": "markdown",
   "metadata": {},
   "source": [
    "Now we make an array of all of the ratings of the 10 most popular movies"
   ]
  },
  {
   "cell_type": "code",
   "execution_count": 7,
   "metadata": {},
   "outputs": [
    {
     "name": "stdout",
     "output_type": "stream",
     "text": [
      "[5 4 5 ... 4 4 5]\n"
     ]
    }
   ],
   "source": [
    "top_10_ratings = []\n",
    "for i in range(len(top_10_movies)):\n",
    "    top_10_ratings += movie_dic[top_10_movies[i]]\n",
    "top_10_ratings = np.asarray(top_10_ratings)\n",
    "print top_10_ratings"
   ]
  },
  {
   "cell_type": "markdown",
   "metadata": {},
   "source": [
    "We now plot a histogram of all the ratings of the 10 most popular movies"
   ]
  },
  {
   "cell_type": "code",
   "execution_count": 8,
   "metadata": {},
   "outputs": [
    {
     "data": {
      "text/plain": [
       "Text(0.5,1,u'Histogram of 10 Most Popular Movie Ratings')"
      ]
     },
     "execution_count": 8,
     "metadata": {},
     "output_type": "execute_result"
    },
    {
     "data": {
      "image/png": "[encoded data removed]",
      "text/plain": [
       "<matplotlib.figure.Figure at 0x7f35d818c210>"
      ]
     },
     "metadata": {},
     "output_type": "display_data"
    }
   ],
   "source": [
    "plt.figure(1)\n",
    "plt.hist(top_10_ratings)\n",
    "plt.xlabel('Rating')\n",
    "plt.ylabel('Frequency')\n",
    "plt.title('Histogram of 10 Most Popular Movie Ratings')"
   ]
  },
  {
   "cell_type": "markdown",
   "metadata": {},
   "source": [
    "We now make an array of the average ratings for all the movies, only counting movies with 100 or more ratings"
   ]
  },
  {
   "cell_type": "code",
   "execution_count": 9,
   "metadata": {},
   "outputs": [],
   "source": [
    "average_ratings = np.zeros(1682)\n",
    "qualified_number = 100\n",
    "for i in range(len(average_ratings)):\n",
    "    movie_i_ratings = movie_dic[i + 1]\n",
    "    if (len(movie_i_ratings) >= qualified_number):\n",
    "        average_ratings[i] = np.average(movie_i_ratings)"
   ]
  },
  {
   "cell_type": "markdown",
   "metadata": {},
   "source": [
    "We use this array of average ratings to create an array of the 10 best movies by finding the maximum values in the average array"
   ]
  },
  {
   "cell_type": "code",
   "execution_count": 10,
   "metadata": {},
   "outputs": [
    {
     "name": "stdout",
     "output_type": "stream",
     "text": [
      "[408 318 169 483  64 603  12  50 178 134]\n"
     ]
    }
   ],
   "source": [
    "best_10_ratings = heapq.nlargest(10, average_ratings)\n",
    "best_10_movies = []\n",
    "for i in range(len(best_10_ratings)):\n",
    "    movie_id = int(np.where(average_ratings == best_10_ratings[i])[0]) + 1\n",
    "    best_10_movies.append(movie_id)\n",
    "best_10_movies = np.asarray(best_10_movies)\n",
    "print best_10_movies"
   ]
  },
  {
   "cell_type": "markdown",
   "metadata": {},
   "source": [
    "Now, we create an array of all the ratings for the 10 best movies and plot a histogram of these ratings"
   ]
  },
  {
   "cell_type": "code",
   "execution_count": 11,
   "metadata": {},
   "outputs": [
    {
     "name": "stdout",
     "output_type": "stream",
     "text": [
      "[5 5 1 ... 5 3 5]\n"
     ]
    }
   ],
   "source": [
    "best_10_all_ratings = []\n",
    "for i in range(len(best_10_movies)):\n",
    "    best_10_all_ratings += movie_dic[best_10_movies[i]]\n",
    "best_10_all_ratings = np.asarray(best_10_all_ratings)\n",
    "print best_10_all_ratings"
   ]
  },
  {
   "cell_type": "code",
   "execution_count": 12,
   "metadata": {},
   "outputs": [
    {
     "data": {
      "text/plain": [
       "Text(0.5,1,u'Histogram of 10 Highest Rated Movie Ratings (minimum 100 ratings to be considered)')"
      ]
     },
     "execution_count": 12,
     "metadata": {},
     "output_type": "execute_result"
    },
    {
     "data": {
      "image/png": "[encoded data removed]",
      "text/plain": [
       "<matplotlib.figure.Figure at 0x7f35afa8cd90>"
      ]
     },
     "metadata": {},
     "output_type": "display_data"
    }
   ],
   "source": [
    "plt.figure(2)\n",
    "plt.hist(best_10_all_ratings)\n",
    "plt.xlabel('Rating')\n",
    "plt.ylabel('Frequency')\n",
    "plt.title('Histogram of 10 Highest Rated Movie Ratings (minimum ' + str(qualified_number) + ' ratings to be considered)')"
   ]
  },
  {
   "cell_type": "code",
   "execution_count": null,
   "metadata": {},
   "outputs": [],
   "source": []
  }
 ],
 "metadata": {
  "kernelspec": {
   "display_name": "Python 2",
   "language": "python",
   "name": "python2"
  },
  "language_info": {
   "codemirror_mode": {
    "name": "ipython",
    "version": 2
   },
   "file_extension": ".py",
   "mimetype": "text/x-python",
   "name": "python",
   "nbconvert_exporter": "python",
   "pygments_lexer": "ipython2",
   "version": "2.7.6"
  }
 },
 "nbformat": 4,
 "nbformat_minor": 2
}
